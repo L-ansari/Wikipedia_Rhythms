{
  "nbformat": 4,
  "nbformat_minor": 0,
  "metadata": {
    "kernelspec": {
      "display_name": "Python 3",
      "language": "python",
      "name": "python3"
    },
    "language_info": {
      "codemirror_mode": {
        "name": "ipython",
        "version": 3
      },
      "file_extension": ".py",
      "mimetype": "text/x-python",
      "name": "python",
      "nbconvert_exporter": "python",
      "pygments_lexer": "ipython3",
      "version": "3.6.3"
    },
    "colab": {
      "name": "Analysis.ipynb",
      "provenance": [],
      "include_colab_link": true
    }
  },
  "cells": [
    {
      "cell_type": "markdown",
      "metadata": {
        "id": "view-in-github",
        "colab_type": "text"
      },
      "source": [
        "<a href=\"https://colab.research.google.com/github/L-ansari/DeepLearning/blob/master/Analysis.ipynb\" target=\"_parent\"><img src=\"https://colab.research.google.com/assets/colab-badge.svg\" alt=\"Open In Colab\"/></a>"
      ]
    },
    {
      "cell_type": "code",
      "metadata": {
        "id": "3aSY2mvlwxv7",
        "outputId": "11a9fa56-ce34-4aae-ccc8-7510efbd2856"
      },
      "source": [
        "#reading in the policy data of countries\n",
        "import pandas as pd\n",
        "\n",
        "c1_school_closing = pd.read_csv(\"/Users/luna/Downloads/covid-policy-tracker-master/data/timeseries/c1_school_closing.csv\")\n",
        "del c1_school_closing['Unnamed: 0']\n",
        "print(\"number of countries & number of days is\", c1_school_closing.shape[0], \",\", c1_school_closing.shape[1]-2)\n",
        "\n",
        "c2_workplace_closing = pd.read_csv(\"/Users/luna/Downloads/covid-policy-tracker-master/data/timeseries/c2_workplace_closing.csv\")\n",
        "del c2_workplace_closing['Unnamed: 0']\n",
        "print(c2_workplace_closing.shape)\n",
        "\n",
        "\n",
        "c3_cancel_public_events = pd.read_csv(\"/Users/luna/Downloads/covid-policy-tracker-master/data/timeseries/c3_cancel_public_events.csv\")\n",
        "del c3_cancel_public_events['Unnamed: 0']\n",
        "print(c3_cancel_public_events.shape)\n",
        "\n",
        "\n",
        "c4_restrictions_on_gatherings= pd.read_csv(\"/Users/luna/Downloads/covid-policy-tracker-master/data/timeseries/c4_restrictions_on_gatherings.csv\")\n",
        "del c4_restrictions_on_gatherings['Unnamed: 0']\n",
        "print(c4_restrictions_on_gatherings.shape)\n",
        "\n",
        "\n",
        "\n",
        "c5_close_public_transport = pd.read_csv(\"/Users/luna/Downloads/covid-policy-tracker-master/data/timeseries/c5_close_public_transport.csv\")\n",
        "del c5_close_public_transport['Unnamed: 0']\n",
        "print(c5_close_public_transport.shape)\n",
        "\n",
        "c6_stay_at_home_requirements = pd.read_csv(\"/Users/luna/Downloads/covid-policy-tracker-master/data/timeseries/c6_stay_at_home_requirements.csv\")\n",
        "del c6_stay_at_home_requirements['Unnamed: 0']\n",
        "print(c6_stay_at_home_requirements.shape)\n",
        "\n",
        "\n",
        "\n",
        "c7_movementrestrictions = pd.read_csv(\"/Users/luna/Downloads/covid-policy-tracker-master/data/timeseries/c7_movementrestrictions.csv\")\n",
        "del c7_movementrestrictions['Unnamed: 0']\n",
        "print(c7_movementrestrictions.shape)\n",
        "\n",
        "c8_internationaltravel = pd.read_csv(\"/Users/luna/Downloads/covid-policy-tracker-master/data/timeseries/c8_internationaltravel.csv\")\n",
        "del c8_internationaltravel['Unnamed: 0']\n",
        "print(c8_internationaltravel.shape)\n",
        "\n",
        "\"merging all the above 8 dataframes into 1\"\n",
        "frames = [c1_school_closing, c2_workplace_closing, c3_cancel_public_events,\n",
        "          c4_restrictions_on_gatherings,c5_close_public_transport, \n",
        "          c6_stay_at_home_requirements,c7_movementrestrictions,c8_internationaltravel]\n",
        "result = pd.concat(frames)\n",
        "print( result.shape)"
      ],
      "execution_count": null,
      "outputs": [
        {
          "output_type": "stream",
          "text": [
            "number of countries & number of days is 186 , 562\n",
            "(186, 564)\n",
            "(186, 564)\n",
            "(186, 564)\n",
            "(186, 564)\n",
            "(186, 564)\n",
            "(186, 564)\n",
            "(186, 564)\n",
            "(1488, 564)\n"
          ],
          "name": "stdout"
        }
      ]
    },
    {
      "cell_type": "code",
      "metadata": {
        "id": "KSNpdUFpwxv_",
        "outputId": "c8b3da8a-5e08-42c2-9691-43ddbecf63ed"
      },
      "source": [
        "#extracting restrinction policy scores of 8 policies for 5 different countries \n",
        "#de, hu, it, pl, se  \n",
        "\n",
        "deutch_policy = result[result['country_name'].str.contains('Germany')]\n",
        "hungary_policy = result[result['country_name'].str.contains('Hungary')]\n",
        "italy_policy = result[result['country_name'].str.contains('Italy')]\n",
        "poland_policy = result[result['country_name'].str.contains('Poland')]\n",
        "sweden_policy = result[result['country_name'].str.contains('Sweden')]\n",
        "\n",
        "\n",
        "\n",
        "#reseting index & taking away the extra index column\n",
        "deutch_policy.reset_index(inplace=True)\n",
        "del deutch_policy['index']\n",
        "print(\"number of policies & number of days is\", deutch_policy.shape[0],\",\", deutch_policy.shape[1]-2 )\n",
        "\n",
        "hungary_policy.reset_index(inplace=True)\n",
        "del hungary_policy['index']\n",
        "\n",
        "italy_policy.reset_index(inplace=True)\n",
        "del italy_policy['index']\n",
        "\n",
        "poland_policy.reset_index(inplace=True)\n",
        "del poland_policy['index']\n",
        "\n",
        "sweden_policy.reset_index(inplace=True)\n",
        "del sweden_policy['index']\n",
        "\n",
        "\n",
        "\n",
        "#summing up the scores of 8 policies into one new row as the sum of sub policies (previous rows )\n",
        "\n",
        "deutch_policy.loc[\"Row_Total\"] = deutch_policy.sum()\n",
        "hungary_policy.loc[\"Row_Total\"] = hungary_policy.sum()\n",
        "italy_policy.loc[\"Row_Total\"] = italy_policy.sum()\n",
        "poland_policy.loc[\"Row_Total\"] = poland_policy.sum()\n",
        "sweden_policy.loc[\"Row_Total\"] =sweden_policy.sum()\n",
        "\n"
      ],
      "execution_count": null,
      "outputs": [
        {
          "output_type": "stream",
          "text": [
            "number of policies & number of days is 8 , 562\n"
          ],
          "name": "stdout"
        },
        {
          "output_type": "stream",
          "text": [
            "/Users/luna/anaconda3/lib/python3.6/site-packages/pandas/core/indexing.py:670: SettingWithCopyWarning: \n",
            "A value is trying to be set on a copy of a slice from a DataFrame\n",
            "\n",
            "See the caveats in the documentation: https://pandas.pydata.org/pandas-docs/stable/user_guide/indexing.html#returning-a-view-versus-a-copy\n",
            "  iloc._setitem_with_indexer(indexer, value)\n"
          ],
          "name": "stderr"
        }
      ]
    },
    {
      "cell_type": "markdown",
      "metadata": {
        "id": "FUdMzW0EwxwA"
      },
      "source": [
        "## Germany"
      ]
    },
    {
      "cell_type": "code",
      "metadata": {
        "collapsed": true,
        "id": "QmNVUY5UwxwA"
      },
      "source": [
        "\n",
        "\n",
        "#extract the germany policy column \n",
        "\n",
        "\n",
        "\n",
        "deutch_policy_transposed =deutch_policy.T \n",
        "deutch_policy_transposed.reset_index(inplace=True)\n",
        "deutch_policy_transposed.dtypes\n",
        "\n",
        "deutch_policy_transposed = deutch_policy_transposed.drop(labels=0, axis=0)\n",
        "deutch_policy_transposed.rename(columns=deutch_policy_transposed.iloc[0])\n",
        "#drop the first row\n",
        "deutch_policy_transposed=deutch_policy_transposed.iloc[1:,:]\n",
        "\n",
        "#headers = deutch_policy_transposed.iloc[0]\n",
        "#deutch_policy_transposed  = pd.DataFrame(deutch_policy_transposed.values[1:], columns=headers)\n",
        "\n",
        "deutch_policy_transposed_FirstLastWeekDropped=deutch_policy_transposed.iloc[4:361,:]\n",
        "\n",
        "\n",
        "#preparing the independent variable\n",
        "policy_2020_total_deutch=deutch_policy_transposed_FirstLastWeekDropped.iloc[:,9]\n",
        "weekly_policy_2020_deutch=policy_2020_total_deutch.groupby(policy_2020_total_deutch.index // 7).sum()\n",
        "#average weekly independent variable\n",
        "weekly_policy_2020_deutch=weekly_policy_2020_deutch/7\n",
        "\n",
        "#normalized independent variable\n",
        "normalized_weekly_policy_2020_deutch=(weekly_policy_2020_deutch-weekly_policy_2020_deutch.min())/(weekly_policy_2020_deutch.max()-weekly_policy_2020_deutch.min())\n",
        "\n"
      ],
      "execution_count": null,
      "outputs": []
    },
    {
      "cell_type": "markdown",
      "metadata": {
        "id": "5AifTEgXwxwB"
      },
      "source": [
        "## Reading in the editorship data"
      ]
    },
    {
      "cell_type": "code",
      "metadata": {
        "id": "Ptt_tSNUwxwB",
        "outputId": "bb46a9de-54a9-4e07-f0ab-fac708527f58"
      },
      "source": [
        "\n",
        "#Reading in the editorship data of the 5 countries\n",
        "\n",
        "\n",
        "from datetime import datetime\n",
        "import sys\n",
        "sys.path.insert(1, \"../src\")\n",
        "\n",
        "\n",
        "\n",
        "revs_deutch = pd.read_csv(\"/Users/luna/Downloads/Wikipedia_Rhythms-master/data/revisions_countrywide/dewiki.csv\")\n",
        "revs_hungary = pd.read_csv(\"/Users/luna/Downloads/Wikipedia_Rhythms-master/data/revisions_countrywide/huwiki.csv\")\n",
        "revs_italy = pd.read_csv(\"/Users/luna/Downloads/Wikipedia_Rhythms-master/data/revisions_countrywide/itwiki.csv\")\n",
        "revs_poland = pd.read_csv(\"/Users/luna/Downloads/Wikipedia_Rhythms-master/data/revisions_countrywide/plwiki.csv\")\n",
        "revs_sweden = pd.read_csv(\"/Users/luna/Downloads/Wikipedia_Rhythms-master/data/revisions_countrywide/sewiki.csv\")\n",
        "\n",
        "print(revs_deutch.shape)\n",
        "print(revs_hungary.shape)\n",
        "print(revs_italy.shape)\n",
        "print(revs_poland.shape)\n",
        "print(revs_sweden.shape)"
      ],
      "execution_count": null,
      "outputs": [
        {
          "output_type": "stream",
          "text": [
            "(29638, 5)\n",
            "(29632, 5)\n",
            "(29627, 5)\n",
            "(29639, 5)\n",
            "(3646, 5)\n"
          ],
          "name": "stdout"
        }
      ]
    },
    {
      "cell_type": "code",
      "metadata": {
        "collapsed": true,
        "id": "NGkuNB88wxwC"
      },
      "source": [
        "\n",
        "#making up the datetime structure \n",
        "revs_deutch['dateInt']=revs_deutch['y'].astype(str) + revs_deutch['m'].astype(str).str.zfill(2)+ revs_deutch['d'].astype(str).str.zfill(2)\n",
        "revs_deutch['Date'] = pd.to_datetime(revs_deutch['dateInt'], format='%Y%m%d')      \n",
        "revs_deutch = revs_deutch.reset_index()\n",
        "\n",
        "\n",
        "\n",
        "\n",
        "revs_deutch_2019=revs_deutch.loc[(revs_deutch['Date'] >= '2018-12-30 00:00:00') & (revs_deutch['Date'] < '2020-01-01 00:00:00')]\n",
        "revs_deutch_2020=revs_deutch.loc[(revs_deutch['Date'] >= '2019-12-29 00:00:00') & (revs_deutch['Date'] < '2021-01-01 00:00:00')]\n",
        "\n",
        "\n",
        "revs_deutch_2019 = revs_deutch_2019.reset_index()\n",
        "revs_deutch_2020 = revs_deutch_2020.reset_index()\n",
        "\n",
        "del revs_deutch_2019['index']\n",
        "del revs_deutch_2020['index']\n",
        "\n",
        "del revs_deutch_2019['level_0']\n",
        "del revs_deutch_2020['level_0']\n",
        "\n",
        "\n",
        "#drop the first week of 2019 (up to 6th of 2019)\n",
        "#Drop the first and last columns of 2019 and 2020\n",
        "\n",
        "revs_deutch_2019_FirstLastweekdroped=revs_deutch_2019.loc[(revs_deutch_2019['Date'] >= '2018-12-30 00:00:00') & (revs_deutch_2019['Date'] < '2019-12-29 00:00:00')]\n",
        "revs_deutch_2020_FirstLastweekdroped=revs_deutch_2020.loc[(revs_deutch_2020['Date'] >= '2019-12-29 00:00:00') & (revs_deutch_2020['Date'] < '2020-12-27 00:00:00')]\n"
      ],
      "execution_count": null,
      "outputs": []
    },
    {
      "cell_type": "code",
      "metadata": {
        "collapsed": true,
        "id": "wWnduMBIwxwD"
      },
      "source": [
        "\n",
        "#Now we make up the daily ratios  (24*7= 168) per week for 2019\n",
        "\n",
        "#test\n",
        "#print(revs_deutch_2019_FirstLastweekdroped.iloc[0,4])\n",
        "hourly_deutch_FirstLastweekdroped_2019=revs_deutch_2019_FirstLastweekdroped.iloc[:,4]\n",
        "hourly_deutch_FirstLastweekdroped_2019 = hourly_deutch_FirstLastweekdroped_2019.reset_index()\n",
        "\n",
        "#group by and sum up every 168 cell (revision counts in 168 cells --->this we later use to devide daily counts and get daily ratios)\n",
        "weekly_sum_2019=hourly_deutch_FirstLastweekdroped_2019.groupby(hourly_deutch_FirstLastweekdroped_2019.index // 168).sum()\n",
        "\n",
        "\n",
        "\n",
        "last_check = 0\n",
        "dfs = []\n",
        "multiples_of_168=  [i for i in range (365*24) if i%168 == 0]\n",
        "\n",
        "\n",
        "for i in range (len(multiples_of_168)-1) :\n",
        "    dfs.append(revs_deutch_2019_FirstLastweekdroped.iloc[multiples_of_168[i]:multiples_of_168[i+1]  ,:].reset_index())\n",
        "    #last_check = ind\n",
        "    \n",
        "extracted_daily_2019=[]\n",
        "    \n",
        "for i in range (len(dfs)):\n",
        "    \n",
        "    extracted_daily_2019.append(dfs[i].iloc[:,5])\n",
        "    \n",
        "\n",
        "weekly_sum_2019_list=weekly_sum_2019['c'].tolist()\n",
        "\n",
        "    \n",
        "extracted_daily_ratio_2019=[]\n",
        "for i in range (len(extracted_daily_2019)):\n",
        "    extracted_daily_ratio_2019.append(extracted_daily_2019[i]/weekly_sum_2019_list[i])\n",
        "    "
      ],
      "execution_count": null,
      "outputs": []
    },
    {
      "cell_type": "code",
      "metadata": {
        "collapsed": true,
        "id": "bmatNqe6wxwE"
      },
      "source": [
        "#Now we make up the daily ratios  (24*7= 168) per week for 2020\n",
        "\n",
        "#print(revs_deutch_2019_FirstLastweekdroped.iloc[0,4])\n",
        "hourly_deutch_FirstLastweekdroped_2020=revs_deutch_2020_FirstLastweekdroped.iloc[:,4]\n",
        "hourly_deutch_FirstLastweekdroped_2020 = hourly_deutch_FirstLastweekdroped_2020.reset_index()\n",
        "\n",
        "#group by and sum up every 24 cell (revision counts in 24 hours)\n",
        "weekly_sum_2020=hourly_deutch_FirstLastweekdroped_2020.groupby(hourly_deutch_FirstLastweekdroped_2020.index // 168).sum()\n",
        "\n",
        "\n",
        "\n",
        "last_check = 0\n",
        "dffs = []\n",
        "multiples_of_168=  [i for i in range (365*24) if i%168 == 0]\n",
        "\n",
        "\n",
        "for i in range (len(multiples_of_168)-1) :\n",
        "    dffs.append(revs_deutch_2020_FirstLastweekdroped.iloc[multiples_of_168[i]:multiples_of_168[i+1]  ,:].reset_index())\n",
        "    #last_check = ind\n",
        "    \n",
        "extracted_daily_2020=[]\n",
        "    \n",
        "for i in range (len(dffs)):\n",
        "    \n",
        "    extracted_daily_2020.append(dffs[i].iloc[:,5])\n",
        "#del extracted_daily_2020[-1]\n",
        "    \n",
        "\n",
        "weekly_sum_2020_list=weekly_sum_2020['c'].tolist()\n",
        "\n",
        "    \n",
        "extracted_daily_ratio_2020=[]\n",
        "for i in range (len(extracted_daily_2020)):\n",
        "    extracted_daily_ratio_2020.append(extracted_daily_2020[i]/weekly_sum_2020_list[i])\n",
        "    "
      ],
      "execution_count": null,
      "outputs": []
    },
    {
      "cell_type": "code",
      "metadata": {
        "id": "xOODxI-awxwF",
        "outputId": "49fbda2d-6f21-4bbc-892e-bb8fcd28309e"
      },
      "source": [
        "#earthmover   \n",
        "    \n",
        "from scipy.stats import wasserstein_distance\n",
        "earthmover_differences= []\n",
        "\n",
        "#print(extracted_daily_ratio_2020[1])\n",
        "\n",
        "\n",
        "for i in range(len(extracted_daily_2020)) :\n",
        "    earthmover_differences.append(wasserstein_distance(extracted_daily_ratio_2019[i], extracted_daily_ratio_2020[i]))\n",
        "    \n",
        "\n",
        "#weekly_policy_2020_deutch=weekly_policy_2020_deutch.tolist()\n",
        "\n",
        "\n",
        "#del weekly_policy_2020_deutch[:2]\n",
        "\n",
        "\n",
        "\n",
        "\n",
        "from matplotlib import pyplot \n",
        "import matplotlib.pyplot as plt\n",
        "\n",
        "\n",
        "plt.scatter(weekly_policy_2020_deutch, earthmover_differences) \n",
        "plt.title('Correlation between earthmover_differences and policies in Germany')\n",
        "plt.xlabel('weekly_policy_2020_Germany')\n",
        "plt.ylabel('earthmover_differences_2019_2020')\n",
        "plt.show()\n",
        "\n"
      ],
      "execution_count": null,
      "outputs": [
        {
          "output_type": "display_data",
          "data": {
            "image/png": "[encoded data removed]",
            "text/plain": [
              "<matplotlib.figure.Figure at 0x1211f5080>"
            ]
          },
          "metadata": {
            "tags": []
          }
        }
      ]
    },
    {
      "cell_type": "code",
      "metadata": {
        "id": "K6jDIhXRwxwF",
        "outputId": "3d707736-5f88-4696-8a24-1057af3cdfd1"
      },
      "source": [
        "\n",
        "#jensen shanon divergence\n",
        "\n",
        "from scipy.spatial import distance\n",
        "jensenshanon_differences= []\n",
        "\n",
        "#print(extracted_daily_ratio_2020[1])\n",
        "\n",
        "\n",
        "for i in range(len(extracted_daily_2020)) :\n",
        "    jensenshanon_differences.append(distance.jensenshannon(extracted_daily_ratio_2019[i], extracted_daily_ratio_2020[i]))\n",
        "    \n",
        "\n",
        "\n",
        "\n",
        "\n",
        "\n",
        "#plot before normalizing\n",
        "plt.scatter(weekly_policy_2020_deutch, jensenshanon_differences) \n",
        "plt.title('Correlation between jensenshanon_differences and policies in Germany')\n",
        "plt.xlabel('weekly_policy_2020_Germany')\n",
        "plt.ylabel('jensenshanon_differences_2019_2020')\n",
        "plt.show()\n",
        "\n"
      ],
      "execution_count": null,
      "outputs": [
        {
          "output_type": "display_data",
          "data": {
            "image/png": "[encoded data removed]",
            "text/plain": [
              "<matplotlib.figure.Figure at 0x1a259fb710>"
            ]
          },
          "metadata": {
            "tags": []
          }
        }
      ]
    },
    {
      "cell_type": "markdown",
      "metadata": {
        "id": "KWZUf3XXwxwG"
      },
      "source": [
        "# Poland"
      ]
    },
    {
      "cell_type": "code",
      "metadata": {
        "collapsed": true,
        "id": "UCupixWOwxwG"
      },
      "source": [
        "\n",
        "\n",
        "\n",
        "poland_policy_transposed =poland_policy.T \n",
        "poland_policy_transposed.reset_index(inplace=True)\n",
        "poland_policy_transposed.dtypes\n",
        "\n",
        "poland_policy_transposed = poland_policy_transposed.drop(labels=0, axis=0)\n",
        "poland_policy_transposed.rename(columns=poland_policy_transposed.iloc[0])\n",
        "#drop the first row\n",
        "poland_policy_transposed=poland_policy_transposed.iloc[1:,:]\n",
        "\n",
        "#headers = deutch_policy_transposed.iloc[0]\n",
        "#deutch_policy_transposed  = pd.DataFrame(deutch_policy_transposed.values[1:], columns=headers)\n",
        "\n",
        "poland_policy_transposed_FirstLastWeekDropped=poland_policy_transposed.iloc[4:361,:]\n",
        "\n",
        "\n",
        "#preparing the independent variable\n",
        "policy_2020_total_poland=poland_policy_transposed_FirstLastWeekDropped.iloc[:,9]\n",
        "weekly_policy_2020_poland=policy_2020_total_poland.groupby(policy_2020_total_poland.index // 7).sum()\n",
        "#average weekly independent variable\n",
        "weekly_policy_2020_poland=weekly_policy_2020_poland/7\n",
        "\n",
        "\n",
        "\n",
        "\n",
        "#making up the datetime structure \n",
        "revs_poland['dateInt']=revs_poland['y'].astype(str) + revs_poland['m'].astype(str).str.zfill(2)+ revs_poland['d'].astype(str).str.zfill(2)\n",
        "revs_poland['Date'] = pd.to_datetime(revs_poland['dateInt'], format='%Y%m%d')      \n",
        "revs_poland = revs_poland.reset_index()\n",
        "\n",
        "\n",
        "\n",
        "\n",
        "revs_poland_2019=revs_poland.loc[(revs_poland['Date'] >= '2018-12-30 00:00:00') & (revs_poland['Date'] < '2020-01-01 00:00:00')]\n",
        "revs_poland_2020=revs_poland.loc[(revs_poland['Date'] >= '2019-12-29 00:00:00') & (revs_poland['Date'] < '2021-01-01 00:00:00')]\n",
        "\n",
        "\n",
        "revs_poland_2019 = revs_poland_2019.reset_index()\n",
        "revs_poland_2020 = revs_poland_2020.reset_index()\n",
        "\n",
        "del revs_poland_2019['index']\n",
        "del revs_poland_2020['index']\n",
        "\n",
        "del revs_poland_2019['level_0']\n",
        "del revs_poland_2020['level_0']\n",
        "\n",
        "\n",
        "#drop the first week of 2019 (up to 6th of 2019)\n",
        "#Drop the first and last columns of 2019 and 2020\n",
        "\n",
        "revs_poland_2019_FirstLastweekdroped=revs_poland_2019.loc[(revs_poland_2019['Date'] >= '2018-12-30 00:00:00') & (revs_poland_2019['Date'] < '2019-12-29 00:00:00')]\n",
        "revs_poland_2020_FirstLastweekdroped=revs_poland_2020.loc[(revs_poland_2020['Date'] >= '2019-12-29 00:00:00') & (revs_poland_2020['Date'] < '2020-12-27 00:00:00')]\n",
        "\n"
      ],
      "execution_count": null,
      "outputs": []
    },
    {
      "cell_type": "code",
      "metadata": {
        "collapsed": true,
        "id": "2DgDnsFqwxwG"
      },
      "source": [
        "\n",
        "#Now we make up the daily ratios  (24*7= 168) per week for 2020\n",
        "\n",
        "#test\n",
        "#print(revs_deutch_2019_FirstLastweekdroped.iloc[0,4])\n",
        "hourly_poland_FirstLastweekdroped_2019=revs_poland_2019_FirstLastweekdroped.iloc[:,4]\n",
        "hourly_poland_FirstLastweekdroped_2019 = hourly_poland_FirstLastweekdroped_2019.reset_index()\n",
        "\n",
        "#group by and sum up every 168 cell (revision counts in 168 cells --->this we later use to devide daily counts and get daily ratios)\n",
        "weekly_sum_2019=hourly_poland_FirstLastweekdroped_2019.groupby(hourly_poland_FirstLastweekdroped_2019.index // 168).sum()\n",
        "\n",
        "\n",
        "\n",
        "last_check = 0\n",
        "dfs = []\n",
        "multiples_of_168=  [i for i in range (365*24) if i%168 == 0]\n",
        "\n",
        "\n",
        "for i in range (len(multiples_of_168)-1) :\n",
        "    dfs.append(revs_poland_2019_FirstLastweekdroped.iloc[multiples_of_168[i]:multiples_of_168[i+1]  ,:].reset_index())\n",
        "    #last_check = ind\n",
        "    \n",
        "extracted_daily_2019=[]\n",
        "    \n",
        "for i in range (len(dfs)):\n",
        "    \n",
        "    extracted_daily_2019.append(dfs[i].iloc[:,5])\n",
        "    \n",
        "\n",
        "weekly_sum_2019_list=weekly_sum_2019['c'].tolist()\n",
        "\n",
        "    \n",
        "extracted_daily_ratio_2019=[]\n",
        "for i in range (len(extracted_daily_2019)):\n",
        "    extracted_daily_ratio_2019.append(extracted_daily_2019[i]/weekly_sum_2019_list[i])\n",
        "    "
      ],
      "execution_count": null,
      "outputs": []
    },
    {
      "cell_type": "code",
      "metadata": {
        "collapsed": true,
        "id": "4ByzWcuAwxwH"
      },
      "source": [
        "   \n",
        "#print(revs_deutch_2019_FirstLastweekdroped.iloc[0,4])\n",
        "hourly_poland_FirstLastweekdroped_2020=revs_poland_2020_FirstLastweekdroped.iloc[:,4]\n",
        "hourly_poland_FirstLastweekdroped_2020 = hourly_poland_FirstLastweekdroped_2020.reset_index()\n",
        "\n",
        "#group by and sum up every 24 cell (revision counts in 24 hours)\n",
        "weekly_sum_2020=hourly_poland_FirstLastweekdroped_2020.groupby(hourly_poland_FirstLastweekdroped_2020.index // 168).sum()\n",
        "\n",
        "\n",
        "\n",
        "last_check = 0\n",
        "dffs = []\n",
        "multiples_of_168=  [i for i in range (365*24) if i%168 == 0]\n",
        "\n",
        "\n",
        "for i in range (len(multiples_of_168)-1) :\n",
        "    dffs.append(revs_poland_2020_FirstLastweekdroped.iloc[multiples_of_168[i]:multiples_of_168[i+1]  ,:].reset_index())\n",
        "    #last_check = ind\n",
        "    \n",
        "extracted_daily_2020=[]\n",
        "    \n",
        "for i in range (len(dffs)):\n",
        "    \n",
        "    extracted_daily_2020.append(dffs[i].iloc[:,5])\n",
        "#del extracted_daily_2020[-1]\n",
        "    \n",
        "\n",
        "weekly_sum_2020_list=weekly_sum_2020['c'].tolist()\n",
        "\n",
        "    \n",
        "extracted_daily_ratio_2020=[]\n",
        "for i in range (len(extracted_daily_2020)):\n",
        "    extracted_daily_ratio_2020.append(extracted_daily_2020[i]/weekly_sum_2020_list[i])\n",
        "    \n"
      ],
      "execution_count": null,
      "outputs": []
    },
    {
      "cell_type": "code",
      "metadata": {
        "id": "2I-RAXDrwxwH",
        "outputId": "de28c323-56a1-49d7-d13f-c335348d8c9b"
      },
      "source": [
        "\n",
        " #earthmover   \n",
        "    \n",
        "from scipy.stats import wasserstein_distance\n",
        "earthmover_differences= []\n",
        "\n",
        "#print(extracted_daily_ratio_2020[1])\n",
        "\n",
        "\n",
        "for i in range(len(extracted_daily_2020)) :\n",
        "    earthmover_differences.append(wasserstein_distance(extracted_daily_ratio_2019[i], extracted_daily_ratio_2020[i]))\n",
        "    \n",
        "\n",
        "weekly_policy_2020_poland=weekly_policy_2020_poland.tolist()\n",
        "\n",
        "\n",
        "\n",
        "\n",
        "#plot before normalizing\n",
        "plt.scatter(weekly_policy_2020_poland, earthmover_differences) \n",
        "plt.title('Correlation between earthmover_differences and policies in Poland')\n",
        "plt.xlabel('weekly_policy_2020_poland')\n",
        "plt.ylabel('earthmover_differences_2019_2020')\n",
        "plt.show()\n",
        "\n",
        "\n"
      ],
      "execution_count": null,
      "outputs": [
        {
          "output_type": "display_data",
          "data": {
            "image/png": "[encoded data removed]",
            "text/plain": [
              "<matplotlib.figure.Figure at 0x1a25a04080>"
            ]
          },
          "metadata": {
            "tags": []
          }
        }
      ]
    },
    {
      "cell_type": "code",
      "metadata": {
        "id": "WQtX-520wxwI",
        "outputId": "09e6fac1-9bc7-4a5f-c5ab-ef3ba320988a"
      },
      "source": [
        "\n",
        "\n",
        "\n",
        "#jensen shanon divergence\n",
        "\n",
        "from scipy.spatial import distance\n",
        "jensenshanon_differences= []\n",
        "\n",
        "#print(extracted_daily_ratio_2020[1])\n",
        "\n",
        "\n",
        "for i in range(len(extracted_daily_2020)) :\n",
        "    jensenshanon_differences.append(distance.jensenshannon(extracted_daily_ratio_2019[i], extracted_daily_ratio_2020[i]))\n",
        "    \n",
        "\n",
        "\n",
        "\n",
        "\n",
        "\n",
        "#plot before normalizing\n",
        "plt.scatter(weekly_policy_2020_deutch, jensenshanon_differences) \n",
        "plt.title('Correlation between jensenshanon_differences and policies in Poland')\n",
        "plt.xlabel('weekly_policy_2020_poland')\n",
        "plt.ylabel('jensenshanon_differences_2019_2020')\n",
        "plt.show()\n",
        "\n",
        "\n",
        "\n",
        "\n",
        "\n"
      ],
      "execution_count": null,
      "outputs": [
        {
          "output_type": "display_data",
          "data": {
            "image/png": "[encoded data removed]",
            "text/plain": [
              "<matplotlib.figure.Figure at 0x1211f52e8>"
            ]
          },
          "metadata": {
            "tags": []
          }
        }
      ]
    },
    {
      "cell_type": "code",
      "metadata": {
        "collapsed": true,
        "id": "HT5cB_ZZwxwI"
      },
      "source": [
        ""
      ],
      "execution_count": null,
      "outputs": []
    }
  ]
}